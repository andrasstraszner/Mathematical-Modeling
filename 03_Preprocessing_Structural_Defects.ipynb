{
 "cells": [
  {
   "cell_type": "code",
   "execution_count": 6,
   "metadata": {},
   "outputs": [],
   "source": [
    "import os\n",
    "import gc\n",
    "import cv2 as cv\n",
    "from tqdm import tqdm\n",
    "import Common as cmn"
   ]
  },
  {
   "cell_type": "code",
   "execution_count": 14,
   "metadata": {},
   "outputs": [],
   "source": [
    "def Open(path):\n",
    "    img = cv.imread(path)\n",
    "    return img\n",
    "\n",
    "def Resize(img, size):\n",
    "    height = img.shape[0]\n",
    "    width = img.shape[1]\n",
    "    \n",
    "    newHeight = size[\"height\"]\n",
    "    newWidth = size[\"width\"]\n",
    "    \n",
    "    if (newHeight != height or newWidth != width):\n",
    "        resized = cv.resize(img, (newWidth, newHeight), interpolation=cv.INTER_AREA)\n",
    "        return resized\n",
    "    return img\n",
    "\n",
    "def Save(img, path):\n",
    "    cv.imwrite(path, img)\n",
    "\n",
    "def ProcessImage(inPath, outPath, kwargs):\n",
    "    img = Open(inPath)\n",
    "    img = Resize(img, kwargs.get(\"size\"))\n",
    "    Save(img, outPath)\n",
    "    \n",
    "def ProcessFolder(inFolderPath, outFolderPath, kwargs):\n",
    "    folderInfo = cmn.getFolderInfo(inFolderPath)\n",
    "    \n",
    "    for fi in tqdm(folderInfo, desc=\"Folders\", leave=True):\n",
    "         \n",
    "        outPath = os.path.join(outFolderPath, cmn.getClass(fi[0]))\n",
    "        if not os.path.exists(outPath):\n",
    "            os.makedirs(outPath)\n",
    "            \n",
    "        for pic in tqdm(fi[2], desc=outPath, leave=True):\n",
    "            inPath = os.path.join(fi[0], pic)\n",
    "            newPath = os.path.join(outPath, pic)\n",
    "            ProcessImage(inPath, newPath, kwargs)\n",
    "    gc.collect()\n",
    "    \n",
    "    "
   ]
  },
  {
   "cell_type": "code",
   "execution_count": 15,
   "metadata": {},
   "outputs": [
    {
     "name": "stderr",
     "output_type": "stream",
     "text": [
      "../Data/Preprocessed\\Cracked: 0it [00:00, ?it/s]\n",
      "../Data/Preprocessed: 0it [00:00, ?it/s]\n",
      "Folders: 2it [00:00, 95.24it/s]\n",
      "../Data/Preprocessed\\Cracked: 100%|██████████| 8484/8484 [00:26<00:00, 322.84it/s]\n",
      "../Data/Preprocessed\\Non-cracked: 100%|██████████| 47608/47608 [04:18<00:00, 183.98it/s]\n",
      "Folders: 100%|██████████| 2/2 [04:45<00:00, 142.53s/it]\n"
     ]
    }
   ],
   "source": [
    "flatPath = \"../Data/Flat\"\n",
    "prePath = \"../Data/Preprocessed\"\n",
    "\n",
    "size = { \"height\": 128, \"width\": 128 }\n",
    "\n",
    "cmn.CleanFolder(prePath)\n",
    "ProcessFolder(flatPath, prePath, kwargs={\"size\": size})"
   ]
  }
 ],
 "metadata": {
  "kernelspec": {
   "display_name": "base",
   "language": "python",
   "name": "python3"
  },
  "language_info": {
   "codemirror_mode": {
    "name": "ipython",
    "version": 3
   },
   "file_extension": ".py",
   "mimetype": "text/x-python",
   "name": "python",
   "nbconvert_exporter": "python",
   "pygments_lexer": "ipython3",
   "version": "3.9.13"
  },
  "orig_nbformat": 4,
  "vscode": {
   "interpreter": {
    "hash": "ff4f85d6e04298634172ac5d8264e7e9b556b95639fe52ebb9425c4d4cba0c9c"
   }
  }
 },
 "nbformat": 4,
 "nbformat_minor": 2
}
