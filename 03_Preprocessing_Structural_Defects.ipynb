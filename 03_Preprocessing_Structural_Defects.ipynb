{
 "cells": [
  {
   "cell_type": "code",
   "execution_count": 2,
   "metadata": {},
   "outputs": [],
   "source": [
    "import os\n",
    "import gc\n",
    "import numpy as np\n",
    "import cv2 as cv\n",
    "from tqdm import tqdm\n",
    "import common as cmn"
   ]
  },
  {
   "cell_type": "code",
   "execution_count": 6,
   "metadata": {},
   "outputs": [],
   "source": [
    "def Open(path):\n",
    "    img = cv.imread(path)\n",
    "    return img\n",
    "\n",
    "\n",
    "def Resize(img, size):\n",
    "    initH = img.shape[0]\n",
    "    initW = img.shape[1]\n",
    "\n",
    "    reqH = size[0]\n",
    "    reqW = size[1]\n",
    "\n",
    "    if (reqH == initH and reqW == initW):\n",
    "        return img\n",
    "\n",
    "    if reqH/initH > reqW/initW:\n",
    "        actH = reqH\n",
    "        hCrop = 0\n",
    "\n",
    "        actW = initW * reqH//initH\n",
    "        wCrop = abs(actW - reqW)//2\n",
    "    else:\n",
    "        actW = reqW\n",
    "        wCrop = 0\n",
    "\n",
    "        actH = initH * reqW//initW\n",
    "        hCrop = abs(actH - reqH)//2\n",
    "\n",
    "    resized = cv.resize(img, (actW, actH), interpolation=cv.INTER_AREA)\n",
    "    cropped = resized[hCrop: hCrop + reqH, wCrop: wCrop + reqW, :]\n",
    "\n",
    "    return cropped\n",
    "\n",
    "\n",
    "def Save(img, path):\n",
    "    cv.imwrite(path, img)\n",
    "\n",
    "\n",
    "def ProcessImage(inPath, outPath, kwargs):\n",
    "    img = Open(inPath)\n",
    "    img = Resize(img, kwargs.get(\"size\"))\n",
    "    Save(img, outPath)\n",
    "\n",
    "\n",
    "def ProcessFolder(inFolderPath, outFolderPath, kwargs, fraction=None, balance=False):\n",
    "    folderInfo = cmn.get_folder_info(inFolderPath)\n",
    "\n",
    "    for fi in tqdm(folderInfo, desc=\"Folders\", leave=True):\n",
    "\n",
    "        outPath = os.path.join(outFolderPath, cmn.get_class(fi[0]))\n",
    "        if not os.path.exists(outPath):\n",
    "            os.makedirs(outPath)\n",
    "\n",
    "        if balance:\n",
    "            takeN = min([fi[1] for fi in folderInfo])\n",
    "        else:\n",
    "            takeN = fi[1]\n",
    "\n",
    "        if fraction != None:\n",
    "            takeN = int(fraction * takeN)\n",
    "\n",
    "        if takeN == fi[1]:\n",
    "            picsToProcess = fi[2]\n",
    "        else:\n",
    "            picsToProcess = np.random.choice(fi[2], takeN, replace=False)\n",
    "\n",
    "        for pic in tqdm(picsToProcess, desc=outPath, leave=True):\n",
    "            inPath = os.path.join(fi[0], pic)\n",
    "            newPath = os.path.join(outPath, pic)\n",
    "            ProcessImage(inPath, newPath, kwargs)\n",
    "\n",
    "    gc.collect()\n"
   ]
  },
  {
   "cell_type": "code",
   "execution_count": 8,
   "metadata": {},
   "outputs": [
    {
     "name": "stderr",
     "output_type": "stream",
     "text": [
      "Folders: 0it [00:00, ?it/s]\n",
      "../Data/PreprocessedResNet\\Cracked: 100%|██████████| 848/848 [00:22<00:00, 37.83it/s]\n",
      "../Data/PreprocessedResNet\\Non-cracked: 100%|██████████| 848/848 [00:28<00:00, 29.30it/s]\n",
      "Folders: 100%|██████████| 2/2 [00:51<00:00, 25.70s/it]\n"
     ]
    }
   ],
   "source": [
    "flatPath = \"../Data/Flat\"\n",
    "\n",
    "# AlexNet\n",
    "# prePath = \"../Data/PreprocessedAlexNet\"\n",
    "# size = (227, 227) # AlexNet\n",
    "\n",
    "# ResNet50, VGG16\n",
    "prePath = \"../Data/PreprocessedResNet\"\n",
    "size = (224, 224) \n",
    "\n",
    "cmn.clean_folder(prePath)\n",
    "ProcessFolder(flatPath, prePath, kwargs={\"size\": size}, fraction=0.1, balance=True)"
   ]
  }
 ],
 "metadata": {
  "kernelspec": {
   "display_name": "base",
   "language": "python",
   "name": "python3"
  },
  "language_info": {
   "codemirror_mode": {
    "name": "ipython",
    "version": 3
   },
   "file_extension": ".py",
   "mimetype": "text/x-python",
   "name": "python",
   "nbconvert_exporter": "python",
   "pygments_lexer": "ipython3",
   "version": "3.9.13"
  },
  "orig_nbformat": 4,
  "vscode": {
   "interpreter": {
    "hash": "ff4f85d6e04298634172ac5d8264e7e9b556b95639fe52ebb9425c4d4cba0c9c"
   }
  }
 },
 "nbformat": 4,
 "nbformat_minor": 2
}
