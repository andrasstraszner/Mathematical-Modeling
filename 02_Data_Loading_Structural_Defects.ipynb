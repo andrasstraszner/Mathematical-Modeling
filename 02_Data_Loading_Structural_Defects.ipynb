{
 "cells": [
  {
   "cell_type": "code",
   "execution_count": null,
   "metadata": {},
   "outputs": [],
   "source": [
    "import os\n",
    "import gc\n",
    "import pathlib\n",
    "import cv2 as cv\n",
    "from tqdm import tqdm"
   ]
  },
  {
   "cell_type": "code",
   "execution_count": 5,
   "metadata": {},
   "outputs": [],
   "source": [
    "def getFolderInfo(path):\n",
    "    folderPath = pathlib.Path(path)\n",
    "    folderInfo = []\n",
    "    for root, dirs, files in os.walk(folderPath):\n",
    "        if len(files) > 0:\n",
    "            folderInfo.append((root, dirs, files))\n",
    "    return folderInfo\n",
    "\n",
    "def getClass(path):\n",
    "    return path.split('\\\\')[-1]\n",
    "\n",
    "def getCategory(path):\n",
    "    return path.split('\\\\')[-2]\n",
    "\n",
    "def FlattenToClasses(rawPath, flatPath, includedCategories=None):\n",
    "    rawFolderInfo = getFolderInfo(rawPath)\n",
    "    \n",
    "    i = 0\n",
    "    for rfi in tqdm(rawFolderInfo, desc=\"Folders\", leave=True):\n",
    "        if includedCategories == None or getCategory(rfi[0]) in includedCategories:\n",
    "            \n",
    "            fcp = os.path.join(flatPath, getClass(rfi[0]))\n",
    "            if not os.path.exists(fcp):\n",
    "                os.makedirs(fcp)\n",
    "                \n",
    "            for pic in tqdm(rfi[2], desc=fcp, leave=True):\n",
    "                newPath = os.path.join(fcp, f\"{str(i)}.jpg\")\n",
    "                \n",
    "                if not os.path.exists(newPath):\n",
    "                    src = os.path.join(rfi[0], pic)\n",
    "                    img = cv.imread(src)\n",
    "                    cv.imwrite(newPath, img)\n",
    "                i += 1           \n",
    "    gc.collect()\n"
   ]
  },
  {
   "cell_type": "code",
   "execution_count": 6,
   "metadata": {},
   "outputs": [
    {
     "name": "stderr",
     "output_type": "stream",
     "text": [
      "../Data/Flat\\Cracked: 100%|██████████| 2025/2025 [00:07<00:00, 255.64it/s]\n",
      "../Data/Flat\\Non-cracked: 100%|██████████| 11595/11595 [01:01<00:00, 188.07it/s]\n",
      "../Data/Flat\\Cracked: 100%|██████████| 2608/2608 [00:11<00:00, 232.00it/s]\n",
      "../Data/Flat\\Non-cracked: 100%|██████████| 21726/21726 [02:04<00:00, 174.11it/s]\n",
      "../Data/Flat\\Cracked: 100%|██████████| 3851/3851 [00:21<00:00, 179.71it/s]\n",
      "../Data/Flat\\Non-cracked: 100%|██████████| 14287/14287 [01:03<00:00, 224.49it/s]\n",
      "Folders: 100%|██████████| 6/6 [04:50<00:00, 48.45s/it]\n"
     ]
    }
   ],
   "source": [
    "rawPath = \"../Data/Raw\"\n",
    "flatPath = \"../Data/Flat\"\n",
    "\n",
    "FlattenToClasses(rawPath, flatPath)"
   ]
  }
 ],
 "metadata": {
  "kernelspec": {
   "display_name": "base",
   "language": "python",
   "name": "python3"
  },
  "language_info": {
   "codemirror_mode": {
    "name": "ipython",
    "version": 3
   },
   "file_extension": ".py",
   "mimetype": "text/x-python",
   "name": "python",
   "nbconvert_exporter": "python",
   "pygments_lexer": "ipython3",
   "version": "3.9.13"
  },
  "orig_nbformat": 4,
  "vscode": {
   "interpreter": {
    "hash": "ff4f85d6e04298634172ac5d8264e7e9b556b95639fe52ebb9425c4d4cba0c9c"
   }
  }
 },
 "nbformat": 4,
 "nbformat_minor": 2
}
