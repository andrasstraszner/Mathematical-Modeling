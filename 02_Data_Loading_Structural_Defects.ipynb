{
 "cells": [
  {
   "cell_type": "code",
   "execution_count": 3,
   "metadata": {},
   "outputs": [],
   "source": [
    "import os\n",
    "import gc\n",
    "import pathlib\n",
    "import cv2 as cv\n",
    "from tqdm import tqdm\n",
    "import common as cmn"
   ]
  },
  {
   "cell_type": "code",
   "execution_count": 4,
   "metadata": {},
   "outputs": [],
   "source": [
    "def FlattenToClasses(rawPath, flatPath, includedCategories=None):\n",
    "    rawFolderInfo = cmn.get_folder_info(rawPath)\n",
    "    \n",
    "    i = 0\n",
    "    for rfi in tqdm(rawFolderInfo, desc=\"Folders\", leave=True):\n",
    "        if includedCategories == None or cmn.get_category(rfi[0]) in includedCategories:\n",
    "            \n",
    "            fcp = os.path.join(flatPath, cmn.get_class(rfi[0]))\n",
    "            if not os.path.exists(fcp):\n",
    "                os.makedirs(fcp)\n",
    "                \n",
    "            for pic in tqdm(rfi[2], desc=fcp, leave=True):\n",
    "                newPath = os.path.join(fcp, f\"{str(i)}.jpg\")\n",
    "                \n",
    "                if not os.path.exists(newPath):\n",
    "                    src = os.path.join(rfi[0], pic)\n",
    "                    img = cv.imread(src)\n",
    "                    cv.imwrite(newPath, img)\n",
    "                i += 1           \n",
    "    gc.collect()"
   ]
  },
  {
   "cell_type": "code",
   "execution_count": 5,
   "metadata": {},
   "outputs": [
    {
     "name": "stderr",
     "output_type": "stream",
     "text": [
      "../Data/Flat\\Cracked: 100%|██████████| 8484/8484 [00:02<00:00, 2944.82it/s]\n",
      "../Data/Flat\\Non-cracked: 100%|██████████| 47608/47608 [00:14<00:00, 3302.17it/s]\n",
      "../Data/Flat: 0it [00:00, ?it/s]\n",
      "Folders: 3it [00:17,  5.81s/it]\n",
      "../Data/Flat\\Cracked: 100%|██████████| 2025/2025 [00:08<00:00, 237.51it/s]\n",
      "../Data/Flat\\Non-cracked: 100%|██████████| 11595/11595 [00:47<00:00, 244.49it/s]\n",
      "../Data/Flat\\Cracked: 100%|██████████| 2608/2608 [00:10<00:00, 243.23it/s]\n",
      "../Data/Flat\\Non-cracked: 100%|██████████| 21726/21726 [02:13<00:00, 163.29it/s]\n",
      "../Data/Flat\\Cracked: 100%|██████████| 3851/3851 [00:41<00:00, 93.19it/s] \n",
      "../Data/Flat\\Non-cracked: 100%|██████████| 14287/14287 [02:13<00:00, 106.66it/s]\n",
      "Folders: 100%|██████████| 6/6 [06:15<00:00, 62.51s/it]\n"
     ]
    }
   ],
   "source": [
    "rawPath = \"../Data/Raw\"\n",
    "flatPath = \"../Data/Flat\"\n",
    "\n",
    "cmn.clean_folder(flatPath)\n",
    "FlattenToClasses(rawPath, flatPath)"
   ]
  }
 ],
 "metadata": {
  "kernelspec": {
   "display_name": "base",
   "language": "python",
   "name": "python3"
  },
  "language_info": {
   "codemirror_mode": {
    "name": "ipython",
    "version": 3
   },
   "file_extension": ".py",
   "mimetype": "text/x-python",
   "name": "python",
   "nbconvert_exporter": "python",
   "pygments_lexer": "ipython3",
   "version": "3.9.13 (main, Aug 25 2022, 23:51:50) [MSC v.1916 64 bit (AMD64)]"
  },
  "orig_nbformat": 4,
  "vscode": {
   "interpreter": {
    "hash": "ff4f85d6e04298634172ac5d8264e7e9b556b95639fe52ebb9425c4d4cba0c9c"
   }
  }
 },
 "nbformat": 4,
 "nbformat_minor": 2
}
